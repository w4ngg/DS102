{
 "cells": [
  {
   "cell_type": "code",
   "execution_count": 5,
   "metadata": {},
   "outputs": [],
   "source": [
    "import numpy as np\n",
    "import random"
   ]
  },
  {
   "cell_type": "markdown",
   "metadata": {},
   "source": [
    "Cau 1\n"
   ]
  },
  {
   "cell_type": "code",
   "execution_count": 61,
   "metadata": {},
   "outputs": [
    {
     "data": {
      "text/plain": [
       "[37, 25, 15, 30]"
      ]
     },
     "execution_count": 61,
     "metadata": {},
     "output_type": "execute_result"
    }
   ],
   "source": [
    "S = list(range(1,51))\n",
    "subset = random.sample(S,k= 4)\n",
    "subset"
   ]
  },
  {
   "cell_type": "code",
   "execution_count": null,
   "metadata": {},
   "outputs": [
    {
     "name": "stdout",
     "output_type": "stream",
     "text": [
      "Ước lượng xác suất: 0.010416666666666666\n"
     ]
    }
   ],
   "source": [
    "import random\n",
    "S = list(range(1, 51))\n",
    "C = {1, 2, 3, 4, 5}\n",
    "N = 100000  \n",
    "count1 = 0   \n",
    "count2 = 0\n",
    "for _ in range(N):\n",
    "    subset = set(random.sample(S,k=4))\n",
    "    if subset.issubset(C): \n",
    "        count1 += 1\n",
    "    if sum(1 for x in subset if x in C) >= 3:\n",
    "        count2 += 1\n",
    "estimated_prob = count1/count2\n",
    "print(f\"Ước lượng xác suất: {estimated_prob}\")"
   ]
  },
  {
   "cell_type": "markdown",
   "metadata": {},
   "source": [
    "Cau 2"
   ]
  },
  {
   "cell_type": "code",
   "execution_count": 13,
   "metadata": {},
   "outputs": [
    {
     "name": "stdout",
     "output_type": "stream",
     "text": [
      "-0.006730223354216876\n"
     ]
    }
   ],
   "source": [
    "#fx = 1/2*np.exp(-abs(x))\n",
    "#CDF = 1/2*np.exp(x) if x < 0\n",
    "#CDF = 1 - 1/2*np.exp(-x) if x >= 0\n",
    "#Inverse CDF : U < 0.5 : X = ln(2U)\n",
    "# U >= 0.5: X = -ln(2(1-U))\n",
    "#Thiết kế thực nghiệm, sinh U ~ Uniform(0,1) -> xét U trả về X, lặp lại với N đủ lớn, E[x] theo lý thuyết pp laplace bằng 0\n",
    "N = 100000\n",
    "U = np.random.uniform(0, 1, N)\n",
    "X = np.where(U < 0.5, np.log(2 * U), -np.log(2 * (1 - U)))\n",
    "print(np.mean(X))\n"
   ]
  },
  {
   "cell_type": "markdown",
   "metadata": {},
   "source": [
    "Cau 4"
   ]
  },
  {
   "cell_type": "code",
   "execution_count": 46,
   "metadata": {},
   "outputs": [
    {
     "data": {
      "text/plain": [
       "0.341916"
      ]
     },
     "execution_count": 46,
     "metadata": {},
     "output_type": "execute_result"
    }
   ],
   "source": [
    "#standard error = std/(N**1/2)\n",
    "#X ~ N(0,1)\n",
    "# SE = 1/(N**1/2) => N >= 1000000\n",
    "N = 1000000\n",
    "X = np.random.normal(0, 1, N)\n",
    "# P(0<X<1)\n",
    "X_cond = X[(X>0) & (X<1)]\n",
    "P = len(X_cond)/len(X)\n",
    "P\n",
    "# I(1) - I(0) xap xi 0.3413"
   ]
  },
  {
   "cell_type": "code",
   "execution_count": 47,
   "metadata": {},
   "outputs": [
    {
     "data": {
      "text/plain": [
       "0.0"
      ]
     },
     "execution_count": 47,
     "metadata": {},
     "output_type": "execute_result"
    }
   ],
   "source": [
    "X = np.random.normal(0, 1, N)\n",
    "X_cond = X[(X>10) & (X<11)]\n",
    "P = len(X_cond)/len(X)\n",
    "P\n",
    "#I(11) - I(10) xap xi 0"
   ]
  },
  {
   "cell_type": "code",
   "execution_count": 48,
   "metadata": {},
   "outputs": [
    {
     "data": {
      "text/plain": [
       "0.500356"
      ]
     },
     "execution_count": 48,
     "metadata": {},
     "output_type": "execute_result"
    }
   ],
   "source": [
    "#P(X < 10.5 | 10 < X < 11) = P(10<X<10.5) / P(10<X<11)\n",
    "# do P(10<X<11) tính được gần như bằng 0 nên để tính được xác xuất ở khoảng này, xấp xỉ X ~ U(10,11)\n",
    "X = np.random.uniform(10, 11, N)\n",
    "X_cond = X[ (X< 10.5)]\n",
    "P = len(X_cond)/len(X)\n",
    "P"
   ]
  },
  {
   "cell_type": "code",
   "execution_count": 49,
   "metadata": {},
   "outputs": [
    {
     "data": {
      "text/plain": [
       "10.5"
      ]
     },
     "execution_count": 49,
     "metadata": {},
     "output_type": "execute_result"
    }
   ],
   "source": [
    "#E(X | 10 < X < 11), X ~ N(0,1)\n",
    "# Như đã phân tích ở trên do P(10< X < 11) gần như là 0, ta xấp xỉ X ~ U(10,11)\n",
    "E = (11 + 10)/2\n",
    "E"
   ]
  },
  {
   "cell_type": "code",
   "execution_count": null,
   "metadata": {},
   "outputs": [],
   "source": []
  }
 ],
 "metadata": {
  "kernelspec": {
   "display_name": "base",
   "language": "python",
   "name": "python3"
  },
  "language_info": {
   "codemirror_mode": {
    "name": "ipython",
    "version": 3
   },
   "file_extension": ".py",
   "mimetype": "text/x-python",
   "name": "python",
   "nbconvert_exporter": "python",
   "pygments_lexer": "ipython3",
   "version": "3.11.7"
  }
 },
 "nbformat": 4,
 "nbformat_minor": 2
}
